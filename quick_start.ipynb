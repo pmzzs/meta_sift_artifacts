{
 "cells": [
  {
   "cell_type": "markdown",
   "metadata": {},
   "source": [
    "## 1. Eval the performance of I-BAU"
   ]
  },
  {
   "cell_type": "code",
   "execution_count": 1,
   "metadata": {},
   "outputs": [],
   "source": [
    "from models import PreActResNet18\n",
    "import torch\n",
    "import torchvision.transforms as transforms\n",
    "from torchvision.datasets import CIFAR10\n",
    "from meta_sift import *\n",
    "import numpy as np\n",
    "import math\n",
    "\n",
    "device = 'cuda'\n",
    "torch.cuda.set_device(2)\n",
    "set_seed(0)"
   ]
  },
  {
   "cell_type": "code",
   "execution_count": 2,
   "metadata": {},
   "outputs": [],
   "source": [
    "# Load a poisoned Model\n",
    "poisoned_model = VGG('small_VGG16')\n",
    "poisoned_model.load_state_dict(torch.load('./checkpoints/gtsrb_tar38_badnets.pth', map_location=\"cuda\"))\n",
    "poisoned_model = poisoned_model.cuda()\n",
    "\n",
    "# Load the ASR evaluation testset\n",
    "data_transform = transforms.Compose([transforms.ToTensor(),])\n",
    "train_path = './dataset/gtsrb_dataset.h5'\n",
    "testset = h5_dataset(train_path, False, None)\n",
    "asr_test = posion_image_all2one(testset, list(np.where(np.array(testset.targets)!=38)[0]), 38, data_transform)"
   ]
  },
  {
   "cell_type": "code",
   "execution_count": 3,
   "metadata": {},
   "outputs": [
    {
     "name": "stdout",
     "output_type": "stream",
     "text": [
      "Original Poison Model ASR: 96.793%\n"
     ]
    }
   ],
   "source": [
    "# Get ASR\n",
    "print('Original Poison Model ASR: %.3f%%' % (get_results(poisoned_model, asr_test)))"
   ]
  },
  {
   "cell_type": "code",
   "execution_count": 4,
   "metadata": {},
   "outputs": [],
   "source": [
    "# Load the poisoned train dataset\n",
    "trainset = h5_dataset(train_path, True, None)\n",
    "train_poi_set, poi_idx = poi_dataset(trainset, poi_methond=\"badnets\", transform=data_transform, poi_rates=0.33,random_seed=0, tar_lab=38)\n",
    "clean_validset = get_validset(train_poi_set, poi_idx)"
   ]
  },
  {
   "cell_type": "code",
   "execution_count": 5,
   "metadata": {},
   "outputs": [
    {
     "name": "stdout",
     "output_type": "stream",
     "text": [
      "Round: 0\n",
      "Round: 1\n",
      "Round: 2\n",
      "Round: 3\n",
      "Round: 4\n",
      "Original Poison Model ASR: 11.964%\n",
      "Original Poison Model ACC: 92.518%\n"
     ]
    }
   ],
   "source": [
    "from ibau import IBAU\n",
    "# Import IBAU to clean the model\n",
    "acctest = h5_dataset(train_path, False, data_transform)\n",
    "cleaned_model = IBAU(copy.deepcopy(poisoned_model), clean_validset)\n",
    "print('Original Poison Model ASR: %.3f%%' % (get_results(copy.deepcopy(cleaned_model), asr_test)))\n",
    "print('Original Poison Model ACC: %.3f%%' % (get_results(copy.deepcopy(cleaned_model), acctest)))"
   ]
  },
  {
   "cell_type": "code",
   "execution_count": 6,
   "metadata": {},
   "outputs": [
    {
     "name": "stdout",
     "output_type": "stream",
     "text": [
      "Round: 0\n",
      "Round: 1\n",
      "Round: 2\n",
      "Round: 3\n",
      "Round: 4\n",
      "Original Poison Model ASR: 77.371%\n",
      "Original Poison Model ACC: 94.054%\n"
     ]
    }
   ],
   "source": [
    "# Ibau with poisoned base set\n",
    "poi_base_set = get_validset(train_poi_set, poi_idx, 1000, 8)\n",
    "cleaned_model_dirty = IBAU(copy.deepcopy(poisoned_model), poi_base_set)\n",
    "\n",
    "print('Original Poison Model ASR: %.3f%%' % (get_results(copy.deepcopy(cleaned_model_dirty), asr_test)))\n",
    "print('Original Poison Model ACC: %.3f%%' % (get_results(copy.deepcopy(cleaned_model_dirty), acctest)))"
   ]
  },
  {
   "cell_type": "markdown",
   "metadata": {},
   "source": [
    "## 2.DC cannot remove all poison"
   ]
  },
  {
   "cell_type": "code",
   "execution_count": 7,
   "metadata": {},
   "outputs": [],
   "source": [
    "from dc import DC\n",
    "dc_idx = DC(train_poi_set, 1000)"
   ]
  },
  {
   "cell_type": "code",
   "execution_count": 8,
   "metadata": {},
   "outputs": [
    {
     "name": "stdout",
     "output_type": "stream",
     "text": [
      "Round: 0\n",
      "Round: 1\n",
      "Round: 2\n",
      "Round: 3\n",
      "Round: 4\n",
      "Original Poison Model ASR: 73.911%\n",
      "Original Poison Model ACC: 90.594%\n"
     ]
    }
   ],
   "source": [
    "cleaned_model_dirty = IBAU(copy.deepcopy(poisoned_model), torch.utils.data.Subset(train_poi_set, dc_idx))\n",
    "\n",
    "\n",
    "print('Original Poison Model ASR: %.3f%%' % (get_results(copy.deepcopy(cleaned_model_dirty), asr_test)))\n",
    "print('Original Poison Model ACC: %.3f%%' % (get_results(copy.deepcopy(cleaned_model_dirty), acctest)))"
   ]
  },
  {
   "cell_type": "code",
   "execution_count": 9,
   "metadata": {},
   "outputs": [
    {
     "name": "stdout",
     "output_type": "stream",
     "text": [
      "NCR for DC is: 33.885%\n"
     ]
    }
   ],
   "source": [
    "print('NCR for DC is: %.3f%%' % get_NCR(train_poi_set, poi_idx, dc_idx))"
   ]
  },
  {
   "cell_type": "markdown",
   "metadata": {},
   "source": [
    "## 3. Meta-sift result"
   ]
  },
  {
   "cell_type": "code",
   "execution_count": 10,
   "metadata": {},
   "outputs": [],
   "source": [
    "class Args:\n",
    "    num_classes = 43\n",
    "    tar_lab = 38\n",
    "    repeat_rounds = 5\n",
    "    res_epochs = 1\n",
    "    warmup_epochs = 1\n",
    "    batch_size = 128\n",
    "    num_workers = 16\n",
    "    v_lr = 0.0005\n",
    "    meta_lr = 0.1\n",
    "    top_k = 15\n",
    "    go_lr = 1e-1\n",
    "    num_act = 4\n",
    "    momentum = 0.9\n",
    "    nesterov = True\n",
    "    random_seed = 0\n",
    "args=Args()"
   ]
  },
  {
   "cell_type": "code",
   "execution_count": 11,
   "metadata": {},
   "outputs": [
    {
     "name": "stdout",
     "output_type": "stream",
     "text": [
      "-----------Start sift round: 0-----------\n",
      "Warmup Epoch 0 \n"
     ]
    },
    {
     "name": "stderr",
     "output_type": "stream",
     "text": [
      "100%|██████████| 307/307 [00:33<00:00,  9.15it/s]\n"
     ]
    },
    {
     "name": "stdout",
     "output_type": "stream",
     "text": [
      "-----------Start sift round: 1-----------\n",
      "Warmup Epoch 0 \n"
     ]
    },
    {
     "name": "stderr",
     "output_type": "stream",
     "text": [
      "100%|██████████| 307/307 [00:33<00:00,  9.20it/s]\n"
     ]
    },
    {
     "name": "stdout",
     "output_type": "stream",
     "text": [
      "-----------Start sift round: 2-----------\n",
      "Warmup Epoch 0 \n"
     ]
    },
    {
     "name": "stderr",
     "output_type": "stream",
     "text": [
      "100%|██████████| 307/307 [00:33<00:00,  9.17it/s]\n"
     ]
    },
    {
     "name": "stdout",
     "output_type": "stream",
     "text": [
      "-----------Start sift round: 3-----------\n",
      "Warmup Epoch 0 \n"
     ]
    },
    {
     "name": "stderr",
     "output_type": "stream",
     "text": [
      "100%|██████████| 307/307 [00:33<00:00,  9.14it/s]\n"
     ]
    },
    {
     "name": "stdout",
     "output_type": "stream",
     "text": [
      "-----------Start sift round: 4-----------\n",
      "Warmup Epoch 0 \n"
     ]
    },
    {
     "name": "stderr",
     "output_type": "stream",
     "text": [
      "100%|██████████| 307/307 [00:33<00:00,  9.16it/s]\n",
      "307it [00:02, 120.73it/s]                         \n",
      "307it [00:02, 119.78it/s]                         \n",
      "307it [00:02, 120.08it/s]                         \n",
      "307it [00:02, 119.54it/s]                         \n",
      "307it [00:02, 121.14it/s]                         \n"
     ]
    }
   ],
   "source": [
    "new_idx = meta_sift(args, train_poi_set)"
   ]
  },
  {
   "cell_type": "code",
   "execution_count": 12,
   "metadata": {},
   "outputs": [
    {
     "name": "stdout",
     "output_type": "stream",
     "text": [
      "NCR for Meta Sift is: 0.000%\n"
     ]
    }
   ],
   "source": [
    "# NCR for meta_sift\n",
    "print('NCR for Meta Sift is: %.3f%%' % get_NCR(train_poi_set, poi_idx, new_idx))"
   ]
  }
 ],
 "metadata": {
  "kernelspec": {
   "display_name": "jupyterlab",
   "language": "python",
   "name": "python3"
  },
  "language_info": {
   "codemirror_mode": {
    "name": "ipython",
    "version": 3
   },
   "file_extension": ".py",
   "mimetype": "text/x-python",
   "name": "python",
   "nbconvert_exporter": "python",
   "pygments_lexer": "ipython3",
   "version": "3.9.12"
  },
  "vscode": {
   "interpreter": {
    "hash": "7b8be34f2a64f133f414bd034f75b72cc1c8d29070f6944ffe8bd65ff6cd5b9f"
   }
  }
 },
 "nbformat": 4,
 "nbformat_minor": 2
}
